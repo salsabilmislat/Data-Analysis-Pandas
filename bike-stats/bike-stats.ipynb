{
 "cells": [
  {
   "cell_type": "markdown",
   "metadata": {},
   "source": [
    "# Bike-stats\n",
    "## salsabil mislat\n",
    "## trip , station , weather"
   ]
  },
  {
   "cell_type": "code",
   "execution_count": 1,
   "metadata": {},
   "outputs": [],
   "source": [
    "\n",
    "import pandas as pd"
   ]
  },
  {
   "cell_type": "code",
   "execution_count": 2,
   "metadata": {},
   "outputs": [
    {
     "name": "stderr",
     "output_type": "stream",
     "text": [
      "/home/salsabilmislat/code401/Data-Analysis-Pandas/.venv/lib/python3.9/site-packages/IPython/core/interactiveshell.py:3444: FutureWarning: The error_bad_lines argument has been deprecated and will be removed in a future version.\n",
      "\n",
      "\n",
      "  exec(code_obj, self.user_global_ns, self.user_ns)\n",
      "b'Skipping line 50794: expected 12 fields, saw 20\\n'\n"
     ]
    }
   ],
   "source": [
    "trip_data = pd.read_csv('trip.csv',error_bad_lines=False)\n",
    "station_data=pd.read_csv('station.csv')\n",
    "weather_data=pd.read_csv('weather.csv')\n",
    "# trip_data\n",
    "# weather_data\n",
    "# station_data"
   ]
  },
  {
   "cell_type": "markdown",
   "metadata": {},
   "source": [
    "## 1. What is the average trip duration for a borrowed bicycle?"
   ]
  },
  {
   "cell_type": "code",
   "execution_count": 3,
   "metadata": {},
   "outputs": [
    {
     "data": {
      "text/plain": [
       "1178.2956753399776"
      ]
     },
     "execution_count": 3,
     "metadata": {},
     "output_type": "execute_result"
    }
   ],
   "source": [
    "\n",
    "average_trip=trip_data['tripduration'].mean()\n",
    "average_trip"
   ]
  },
  {
   "cell_type": "markdown",
   "metadata": {},
   "source": [
    "## 2. What’s the most common age of a bicycle-sharer?"
   ]
  },
  {
   "cell_type": "code",
   "execution_count": 4,
   "metadata": {},
   "outputs": [
    {
     "data": {
      "text/plain": [
       "34.0"
      ]
     },
     "execution_count": 4,
     "metadata": {},
     "output_type": "execute_result"
    }
   ],
   "source": [
    "most_common_age=trip_data['birthyear'].mode()[0]\n",
    "most_common_age\n",
    "the_age=2021-most_common_age\n",
    "the_age"
   ]
  },
  {
   "cell_type": "markdown",
   "metadata": {},
   "source": [
    "## 3. Given all the weather data here, find the average precipitation per month, and the median precipitation."
   ]
  },
  {
   "cell_type": "code",
   "execution_count": 5,
   "metadata": {},
   "outputs": [
    {
     "data": {
      "text/plain": [
       "(            Precipitation_In\n",
       " Year Month                  \n",
       " 2014 10             0.300526\n",
       "      11             0.141667\n",
       "      12             0.145161\n",
       " 2015 1              0.070645\n",
       "      2              0.163214\n",
       "      3              0.135161\n",
       "      4              0.056667\n",
       "      5              0.014194\n",
       "      6              0.005667\n",
       "      7              0.008710\n",
       "      8              0.035484\n",
       "      9              0.041000\n",
       "      10             0.120645\n",
       "      11             0.234000\n",
       "      12             0.327419\n",
       " 2016 1              0.216452\n",
       "      2              0.173448\n",
       "      3              0.178710\n",
       "      4              0.046000\n",
       "      5              0.010645\n",
       "      6              0.055333\n",
       "      7              0.015484\n",
       "      8              0.000968,\n",
       "             Precipitation_In\n",
       " Year Month                  \n",
       " 2014 10                0.140\n",
       "      11                0.010\n",
       "      12                0.010\n",
       " 2015 1                 0.010\n",
       "      2                 0.025\n",
       "      3                 0.000\n",
       "      4                 0.000\n",
       "      5                 0.000\n",
       "      6                 0.000\n",
       "      7                 0.000\n",
       "      8                 0.000\n",
       "      9                 0.000\n",
       "      10                0.010\n",
       "      11                0.065\n",
       "      12                0.120\n",
       " 2016 1                 0.070\n",
       "      2                 0.080\n",
       "      3                 0.060\n",
       "      4                 0.000\n",
       "      5                 0.000\n",
       "      6                 0.000\n",
       "      7                 0.000\n",
       "      8                 0.000)"
      ]
     },
     "execution_count": 5,
     "metadata": {},
     "output_type": "execute_result"
    }
   ],
   "source": [
    "weather_data[\"Month\"]=pd.DatetimeIndex(weather_data[\"Date\"]).month\n",
    "weather_data[\"Year\"]=pd.DatetimeIndex(weather_data[\"Date\"]).year\n",
    "avgerage_preciption=weather_data[['Precipitation_In',\"Month\",'Year']].groupby(['Year','Month']).mean()\n",
    "median_preciption=weather_data[['Precipitation_In',\"Month\",'Year']].groupby(['Year','Month']).median()\n",
    "avgerage_preciption, median_preciption"
   ]
  },
  {
   "cell_type": "markdown",
   "metadata": {},
   "source": [
    "## 4. What’s the average number of bikes at a given bike station?"
   ]
  },
  {
   "cell_type": "code",
   "execution_count": 6,
   "metadata": {},
   "outputs": [
    {
     "data": {
      "text/plain": [
       "17.74074074074074"
      ]
     },
     "execution_count": 6,
     "metadata": {},
     "output_type": "execute_result"
    }
   ],
   "source": [
    "date = station_data[station_data['decommission_date'].isnull()]\n",
    "the_mean_current=date['current_dockcount'].mean()\n",
    "the_mean_current"
   ]
  },
  {
   "cell_type": "markdown",
   "metadata": {},
   "source": [
    "## 5. When a bike station is modified, is it more likely that it’ll lose bikes or gain bikes? How do you know?"
   ]
  },
  {
   "cell_type": "code",
   "execution_count": 7,
   "metadata": {},
   "outputs": [
    {
     "data": {
      "text/plain": [
       "-64"
      ]
     },
     "execution_count": 7,
     "metadata": {},
     "output_type": "execute_result"
    }
   ],
   "source": [
    "modified_station = station_data[['modification_date','install_dockcount','current_dockcount']].dropna()\n",
    "lose_or_gain=modified_station['current_dockcount'].sum() - modified_station['install_dockcount'].sum()\n",
    "lose_or_gain"
   ]
  },
  {
   "cell_type": "markdown",
   "metadata": {},
   "source": [
    "## 6. Come up with 3 more questions that can be answered with this data set."
   ]
  },
  {
   "cell_type": "markdown",
   "metadata": {},
   "source": [
    "\n",
    "**sort the station data depend on the current_dockcount**"
   ]
  },
  {
   "cell_type": "code",
   "execution_count": 8,
   "metadata": {},
   "outputs": [],
   "source": [
    "sorting_data=station_data.sort_values(by=['current_dockcount'])\n",
    "# sorting_data"
   ]
  },
  {
   "cell_type": "markdown",
   "metadata": {},
   "source": [
    "**sorting the weather data depend on the Max_Temperature_F**"
   ]
  },
  {
   "cell_type": "code",
   "execution_count": 9,
   "metadata": {},
   "outputs": [],
   "source": [
    "sorting_data=weather_data.sort_values(by='Mean_Temperature_F',ascending=False)\n",
    "# sorting_data"
   ]
  },
  {
   "cell_type": "markdown",
   "metadata": {},
   "source": [
    "**sorting the station by the index**"
   ]
  },
  {
   "cell_type": "code",
   "execution_count": 10,
   "metadata": {},
   "outputs": [],
   "source": [
    "\n",
    "sorting_data=station_data['current_dockcount'].mean()\n",
    "# sorting_data"
   ]
  }
 ],
 "metadata": {
  "interpreter": {
   "hash": "2a02b953e915b177eadf1abc76bb7963cd7d13c79704b66b5b75d695bb6a9a75"
  },
  "kernelspec": {
   "display_name": "Python 3.9.5 64-bit ('.venv': poetry)",
   "language": "python",
   "name": "python3"
  },
  "language_info": {
   "codemirror_mode": {
    "name": "ipython",
    "version": 3
   },
   "file_extension": ".py",
   "mimetype": "text/x-python",
   "name": "python",
   "nbconvert_exporter": "python",
   "pygments_lexer": "ipython3",
   "version": "3.9.5"
  },
  "orig_nbformat": 4
 },
 "nbformat": 4,
 "nbformat_minor": 2
}
