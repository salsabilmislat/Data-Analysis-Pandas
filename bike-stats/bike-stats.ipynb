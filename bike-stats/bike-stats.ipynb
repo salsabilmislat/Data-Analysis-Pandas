{
 "cells": [
  {
   "cell_type": "markdown",
   "metadata": {},
   "source": [
    "# Bike-stats\n",
    "## salsabil mislat\n",
    "## trip , station , weather"
   ]
  },
  {
   "cell_type": "code",
   "execution_count": 1,
   "metadata": {},
   "outputs": [],
   "source": [
    "\n",
    "import pandas as pd"
   ]
  },
  {
   "cell_type": "code",
   "execution_count": 42,
   "metadata": {},
   "outputs": [
    {
     "name": "stderr",
     "output_type": "stream",
     "text": [
      "/home/salsabilmislat/code401/Data-Analysis-Pandas/.venv/lib/python3.9/site-packages/IPython/core/interactiveshell.py:3444: FutureWarning: The error_bad_lines argument has been deprecated and will be removed in a future version.\n",
      "\n",
      "\n",
      "  exec(code_obj, self.user_global_ns, self.user_ns)\n",
      "b'Skipping line 50794: expected 12 fields, saw 20\\n'\n"
     ]
    },
    {
     "data": {
      "text/html": [
       "<div>\n",
       "<style scoped>\n",
       "    .dataframe tbody tr th:only-of-type {\n",
       "        vertical-align: middle;\n",
       "    }\n",
       "\n",
       "    .dataframe tbody tr th {\n",
       "        vertical-align: top;\n",
       "    }\n",
       "\n",
       "    .dataframe thead th {\n",
       "        text-align: right;\n",
       "    }\n",
       "</style>\n",
       "<table border=\"1\" class=\"dataframe\">\n",
       "  <thead>\n",
       "    <tr style=\"text-align: right;\">\n",
       "      <th></th>\n",
       "      <th>Date</th>\n",
       "      <th>Max_Temperature_F</th>\n",
       "      <th>Mean_Temperature_F</th>\n",
       "      <th>Min_TemperatureF</th>\n",
       "      <th>Max_Dew_Point_F</th>\n",
       "      <th>MeanDew_Point_F</th>\n",
       "      <th>Min_Dewpoint_F</th>\n",
       "      <th>Max_Humidity</th>\n",
       "      <th>Mean_Humidity</th>\n",
       "      <th>Min_Humidity</th>\n",
       "      <th>...</th>\n",
       "      <th>Mean_Sea_Level_Pressure_In</th>\n",
       "      <th>Min_Sea_Level_Pressure_In</th>\n",
       "      <th>Max_Visibility_Miles</th>\n",
       "      <th>Mean_Visibility_Miles</th>\n",
       "      <th>Min_Visibility_Miles</th>\n",
       "      <th>Max_Wind_Speed_MPH</th>\n",
       "      <th>Mean_Wind_Speed_MPH</th>\n",
       "      <th>Max_Gust_Speed_MPH</th>\n",
       "      <th>Precipitation_In</th>\n",
       "      <th>Events</th>\n",
       "    </tr>\n",
       "  </thead>\n",
       "  <tbody>\n",
       "    <tr>\n",
       "      <th>0</th>\n",
       "      <td>10/13/2014</td>\n",
       "      <td>71</td>\n",
       "      <td>62.0</td>\n",
       "      <td>54</td>\n",
       "      <td>55</td>\n",
       "      <td>51</td>\n",
       "      <td>46</td>\n",
       "      <td>87</td>\n",
       "      <td>68</td>\n",
       "      <td>46</td>\n",
       "      <td>...</td>\n",
       "      <td>29.79</td>\n",
       "      <td>29.65</td>\n",
       "      <td>10</td>\n",
       "      <td>10</td>\n",
       "      <td>4</td>\n",
       "      <td>13</td>\n",
       "      <td>4</td>\n",
       "      <td>21</td>\n",
       "      <td>0.00</td>\n",
       "      <td>Rain</td>\n",
       "    </tr>\n",
       "    <tr>\n",
       "      <th>1</th>\n",
       "      <td>10/14/2014</td>\n",
       "      <td>63</td>\n",
       "      <td>59.0</td>\n",
       "      <td>55</td>\n",
       "      <td>52</td>\n",
       "      <td>51</td>\n",
       "      <td>50</td>\n",
       "      <td>88</td>\n",
       "      <td>78</td>\n",
       "      <td>63</td>\n",
       "      <td>...</td>\n",
       "      <td>29.75</td>\n",
       "      <td>29.54</td>\n",
       "      <td>10</td>\n",
       "      <td>9</td>\n",
       "      <td>3</td>\n",
       "      <td>10</td>\n",
       "      <td>5</td>\n",
       "      <td>17</td>\n",
       "      <td>0.11</td>\n",
       "      <td>Rain</td>\n",
       "    </tr>\n",
       "    <tr>\n",
       "      <th>2</th>\n",
       "      <td>10/15/2014</td>\n",
       "      <td>62</td>\n",
       "      <td>58.0</td>\n",
       "      <td>54</td>\n",
       "      <td>53</td>\n",
       "      <td>50</td>\n",
       "      <td>46</td>\n",
       "      <td>87</td>\n",
       "      <td>77</td>\n",
       "      <td>67</td>\n",
       "      <td>...</td>\n",
       "      <td>29.71</td>\n",
       "      <td>29.51</td>\n",
       "      <td>10</td>\n",
       "      <td>9</td>\n",
       "      <td>3</td>\n",
       "      <td>18</td>\n",
       "      <td>7</td>\n",
       "      <td>25</td>\n",
       "      <td>0.45</td>\n",
       "      <td>Rain</td>\n",
       "    </tr>\n",
       "    <tr>\n",
       "      <th>3</th>\n",
       "      <td>10/16/2014</td>\n",
       "      <td>71</td>\n",
       "      <td>61.0</td>\n",
       "      <td>52</td>\n",
       "      <td>49</td>\n",
       "      <td>46</td>\n",
       "      <td>42</td>\n",
       "      <td>83</td>\n",
       "      <td>61</td>\n",
       "      <td>36</td>\n",
       "      <td>...</td>\n",
       "      <td>29.95</td>\n",
       "      <td>29.81</td>\n",
       "      <td>10</td>\n",
       "      <td>10</td>\n",
       "      <td>10</td>\n",
       "      <td>9</td>\n",
       "      <td>4</td>\n",
       "      <td>-</td>\n",
       "      <td>0.00</td>\n",
       "      <td>Rain</td>\n",
       "    </tr>\n",
       "    <tr>\n",
       "      <th>4</th>\n",
       "      <td>10/17/2014</td>\n",
       "      <td>64</td>\n",
       "      <td>60.0</td>\n",
       "      <td>57</td>\n",
       "      <td>55</td>\n",
       "      <td>51</td>\n",
       "      <td>41</td>\n",
       "      <td>87</td>\n",
       "      <td>72</td>\n",
       "      <td>46</td>\n",
       "      <td>...</td>\n",
       "      <td>29.78</td>\n",
       "      <td>29.73</td>\n",
       "      <td>10</td>\n",
       "      <td>10</td>\n",
       "      <td>6</td>\n",
       "      <td>8</td>\n",
       "      <td>3</td>\n",
       "      <td>-</td>\n",
       "      <td>0.14</td>\n",
       "      <td>Rain</td>\n",
       "    </tr>\n",
       "    <tr>\n",
       "      <th>...</th>\n",
       "      <td>...</td>\n",
       "      <td>...</td>\n",
       "      <td>...</td>\n",
       "      <td>...</td>\n",
       "      <td>...</td>\n",
       "      <td>...</td>\n",
       "      <td>...</td>\n",
       "      <td>...</td>\n",
       "      <td>...</td>\n",
       "      <td>...</td>\n",
       "      <td>...</td>\n",
       "      <td>...</td>\n",
       "      <td>...</td>\n",
       "      <td>...</td>\n",
       "      <td>...</td>\n",
       "      <td>...</td>\n",
       "      <td>...</td>\n",
       "      <td>...</td>\n",
       "      <td>...</td>\n",
       "      <td>...</td>\n",
       "      <td>...</td>\n",
       "    </tr>\n",
       "    <tr>\n",
       "      <th>684</th>\n",
       "      <td>8/27/2016</td>\n",
       "      <td>72</td>\n",
       "      <td>66.0</td>\n",
       "      <td>61</td>\n",
       "      <td>57</td>\n",
       "      <td>54</td>\n",
       "      <td>50</td>\n",
       "      <td>81</td>\n",
       "      <td>65</td>\n",
       "      <td>46</td>\n",
       "      <td>...</td>\n",
       "      <td>29.88</td>\n",
       "      <td>29.77</td>\n",
       "      <td>10</td>\n",
       "      <td>10</td>\n",
       "      <td>10</td>\n",
       "      <td>16</td>\n",
       "      <td>9</td>\n",
       "      <td>NaN</td>\n",
       "      <td>0.00</td>\n",
       "      <td>NaN</td>\n",
       "    </tr>\n",
       "    <tr>\n",
       "      <th>685</th>\n",
       "      <td>8/28/2016</td>\n",
       "      <td>75</td>\n",
       "      <td>68.0</td>\n",
       "      <td>59</td>\n",
       "      <td>54</td>\n",
       "      <td>52</td>\n",
       "      <td>50</td>\n",
       "      <td>80</td>\n",
       "      <td>65</td>\n",
       "      <td>44</td>\n",
       "      <td>...</td>\n",
       "      <td>30.06</td>\n",
       "      <td>30.01</td>\n",
       "      <td>10</td>\n",
       "      <td>10</td>\n",
       "      <td>10</td>\n",
       "      <td>12</td>\n",
       "      <td>9</td>\n",
       "      <td>NaN</td>\n",
       "      <td>0.00</td>\n",
       "      <td>NaN</td>\n",
       "    </tr>\n",
       "    <tr>\n",
       "      <th>686</th>\n",
       "      <td>8/29/2016</td>\n",
       "      <td>81</td>\n",
       "      <td>68.0</td>\n",
       "      <td>55</td>\n",
       "      <td>55</td>\n",
       "      <td>53</td>\n",
       "      <td>50</td>\n",
       "      <td>89</td>\n",
       "      <td>65</td>\n",
       "      <td>39</td>\n",
       "      <td>...</td>\n",
       "      <td>30.02</td>\n",
       "      <td>29.95</td>\n",
       "      <td>10</td>\n",
       "      <td>10</td>\n",
       "      <td>6</td>\n",
       "      <td>9</td>\n",
       "      <td>4</td>\n",
       "      <td>NaN</td>\n",
       "      <td>0.00</td>\n",
       "      <td>NaN</td>\n",
       "    </tr>\n",
       "    <tr>\n",
       "      <th>687</th>\n",
       "      <td>8/30/2016</td>\n",
       "      <td>70</td>\n",
       "      <td>64.0</td>\n",
       "      <td>57</td>\n",
       "      <td>55</td>\n",
       "      <td>53</td>\n",
       "      <td>52</td>\n",
       "      <td>83</td>\n",
       "      <td>69</td>\n",
       "      <td>53</td>\n",
       "      <td>...</td>\n",
       "      <td>30.01</td>\n",
       "      <td>29.97</td>\n",
       "      <td>10</td>\n",
       "      <td>10</td>\n",
       "      <td>10</td>\n",
       "      <td>14</td>\n",
       "      <td>9</td>\n",
       "      <td>18</td>\n",
       "      <td>0.00</td>\n",
       "      <td>NaN</td>\n",
       "    </tr>\n",
       "    <tr>\n",
       "      <th>688</th>\n",
       "      <td>8/31/2016</td>\n",
       "      <td>71</td>\n",
       "      <td>65.0</td>\n",
       "      <td>59</td>\n",
       "      <td>61</td>\n",
       "      <td>56</td>\n",
       "      <td>52</td>\n",
       "      <td>90</td>\n",
       "      <td>77</td>\n",
       "      <td>63</td>\n",
       "      <td>...</td>\n",
       "      <td>29.97</td>\n",
       "      <td>29.96</td>\n",
       "      <td>10</td>\n",
       "      <td>10</td>\n",
       "      <td>8</td>\n",
       "      <td>14</td>\n",
       "      <td>8</td>\n",
       "      <td>NaN</td>\n",
       "      <td>0.00</td>\n",
       "      <td>Rain</td>\n",
       "    </tr>\n",
       "  </tbody>\n",
       "</table>\n",
       "<p>689 rows × 21 columns</p>\n",
       "</div>"
      ],
      "text/plain": [
       "           Date  Max_Temperature_F  Mean_Temperature_F  Min_TemperatureF  \\\n",
       "0    10/13/2014                 71                62.0                54   \n",
       "1    10/14/2014                 63                59.0                55   \n",
       "2    10/15/2014                 62                58.0                54   \n",
       "3    10/16/2014                 71                61.0                52   \n",
       "4    10/17/2014                 64                60.0                57   \n",
       "..          ...                ...                 ...               ...   \n",
       "684   8/27/2016                 72                66.0                61   \n",
       "685   8/28/2016                 75                68.0                59   \n",
       "686   8/29/2016                 81                68.0                55   \n",
       "687   8/30/2016                 70                64.0                57   \n",
       "688   8/31/2016                 71                65.0                59   \n",
       "\n",
       "     Max_Dew_Point_F  MeanDew_Point_F  Min_Dewpoint_F  Max_Humidity  \\\n",
       "0                 55               51              46            87   \n",
       "1                 52               51              50            88   \n",
       "2                 53               50              46            87   \n",
       "3                 49               46              42            83   \n",
       "4                 55               51              41            87   \n",
       "..               ...              ...             ...           ...   \n",
       "684               57               54              50            81   \n",
       "685               54               52              50            80   \n",
       "686               55               53              50            89   \n",
       "687               55               53              52            83   \n",
       "688               61               56              52            90   \n",
       "\n",
       "     Mean_Humidity  Min_Humidity  ...  Mean_Sea_Level_Pressure_In  \\\n",
       "0               68            46  ...                       29.79   \n",
       "1               78            63  ...                       29.75   \n",
       "2               77            67  ...                       29.71   \n",
       "3               61            36  ...                       29.95   \n",
       "4               72            46  ...                       29.78   \n",
       "..             ...           ...  ...                         ...   \n",
       "684             65            46  ...                       29.88   \n",
       "685             65            44  ...                       30.06   \n",
       "686             65            39  ...                       30.02   \n",
       "687             69            53  ...                       30.01   \n",
       "688             77            63  ...                       29.97   \n",
       "\n",
       "     Min_Sea_Level_Pressure_In  Max_Visibility_Miles  Mean_Visibility_Miles  \\\n",
       "0                        29.65                    10                     10   \n",
       "1                        29.54                    10                      9   \n",
       "2                        29.51                    10                      9   \n",
       "3                        29.81                    10                     10   \n",
       "4                        29.73                    10                     10   \n",
       "..                         ...                   ...                    ...   \n",
       "684                      29.77                    10                     10   \n",
       "685                      30.01                    10                     10   \n",
       "686                      29.95                    10                     10   \n",
       "687                      29.97                    10                     10   \n",
       "688                      29.96                    10                     10   \n",
       "\n",
       "     Min_Visibility_Miles  Max_Wind_Speed_MPH  Mean_Wind_Speed_MPH  \\\n",
       "0                       4                  13                    4   \n",
       "1                       3                  10                    5   \n",
       "2                       3                  18                    7   \n",
       "3                      10                   9                    4   \n",
       "4                       6                   8                    3   \n",
       "..                    ...                 ...                  ...   \n",
       "684                    10                  16                    9   \n",
       "685                    10                  12                    9   \n",
       "686                     6                   9                    4   \n",
       "687                    10                  14                    9   \n",
       "688                     8                  14                    8   \n",
       "\n",
       "     Max_Gust_Speed_MPH Precipitation_In  Events  \n",
       "0                    21             0.00    Rain  \n",
       "1                    17             0.11    Rain  \n",
       "2                    25             0.45    Rain  \n",
       "3                     -             0.00    Rain  \n",
       "4                     -             0.14    Rain  \n",
       "..                  ...              ...     ...  \n",
       "684                 NaN             0.00     NaN  \n",
       "685                 NaN             0.00     NaN  \n",
       "686                 NaN             0.00     NaN  \n",
       "687                  18             0.00     NaN  \n",
       "688                 NaN             0.00    Rain  \n",
       "\n",
       "[689 rows x 21 columns]"
      ]
     },
     "execution_count": 42,
     "metadata": {},
     "output_type": "execute_result"
    }
   ],
   "source": [
    "trip_data = pd.read_csv('trip.csv',error_bad_lines=False)\n",
    "station_data=pd.read_csv('station.csv')\n",
    "weather_data=pd.read_csv('weather.csv')\n",
    "# trip_data\n",
    "# weather_data\n",
    "# station_data"
   ]
  },
  {
   "cell_type": "markdown",
   "metadata": {},
   "source": [
    "## 1. What is the average trip duration for a borrowed bicycle?"
   ]
  },
  {
   "cell_type": "code",
   "execution_count": 3,
   "metadata": {},
   "outputs": [
    {
     "data": {
      "text/plain": [
       "1178.2956753399776"
      ]
     },
     "execution_count": 3,
     "metadata": {},
     "output_type": "execute_result"
    }
   ],
   "source": [
    "\n",
    "average_trip=trip_data['tripduration'].mean()\n",
    "average_trip"
   ]
  },
  {
   "cell_type": "markdown",
   "metadata": {},
   "source": [
    "## 2. What’s the most common age of a bicycle-sharer?"
   ]
  },
  {
   "cell_type": "code",
   "execution_count": 33,
   "metadata": {},
   "outputs": [
    {
     "data": {
      "text/plain": [
       "34.0"
      ]
     },
     "execution_count": 33,
     "metadata": {},
     "output_type": "execute_result"
    }
   ],
   "source": [
    "most_common_age=trip_data['birthyear'].mode()[0]\n",
    "most_common_age\n",
    "the_age=2021-most_common_age\n",
    "the_age"
   ]
  },
  {
   "cell_type": "markdown",
   "metadata": {},
   "source": [
    "## 3. Given all the weather data here, find the average precipitation per month, and the median precipitation."
   ]
  },
  {
   "cell_type": "code",
   "execution_count": 39,
   "metadata": {},
   "outputs": [
    {
     "data": {
      "text/plain": [
       "(            Precipitation_In\n",
       " year month                  \n",
       " 2014 10             0.300526\n",
       "      11             0.141667\n",
       "      12             0.145161\n",
       " 2015 1              0.070645\n",
       "      2              0.163214\n",
       "      3              0.135161\n",
       "      4              0.056667\n",
       "      5              0.014194\n",
       "      6              0.005667\n",
       "      7              0.008710\n",
       "      8              0.035484\n",
       "      9              0.041000\n",
       "      10             0.120645\n",
       "      11             0.234000\n",
       "      12             0.327419\n",
       " 2016 1              0.216452\n",
       "      2              0.173448\n",
       "      3              0.178710\n",
       "      4              0.046000\n",
       "      5              0.010645\n",
       "      6              0.055333\n",
       "      7              0.015484\n",
       "      8              0.000968,\n",
       "             Precipitation_In\n",
       " year month                  \n",
       " 2014 10                0.140\n",
       "      11                0.010\n",
       "      12                0.010\n",
       " 2015 1                 0.010\n",
       "      2                 0.025\n",
       "      3                 0.000\n",
       "      4                 0.000\n",
       "      5                 0.000\n",
       "      6                 0.000\n",
       "      7                 0.000\n",
       "      8                 0.000\n",
       "      9                 0.000\n",
       "      10                0.010\n",
       "      11                0.065\n",
       "      12                0.120\n",
       " 2016 1                 0.070\n",
       "      2                 0.080\n",
       "      3                 0.060\n",
       "      4                 0.000\n",
       "      5                 0.000\n",
       "      6                 0.000\n",
       "      7                 0.000\n",
       "      8                 0.000)"
      ]
     },
     "execution_count": 39,
     "metadata": {},
     "output_type": "execute_result"
    }
   ],
   "source": [
    "weather_data[\"month\"]=pd.DatetimeIndex(weather_data[\"Date\"]).month\n",
    "weather_data[\"year\"]=pd.DatetimeIndex(weather_data[\"Date\"]).year\n",
    "avg_preciption=weather_data[['Precipitation_In',\"month\",'year']].groupby(['year','month']).mean()\n",
    "median_preciption=weather_data[['Precipitation_In',\"month\",'year']].groupby(['year','month']).median()\n",
    "avg_preciption, median_preciption"
   ]
  },
  {
   "cell_type": "markdown",
   "metadata": {},
   "source": [
    "## 4. What’s the average number of bikes at a given bike station?"
   ]
  },
  {
   "cell_type": "code",
   "execution_count": 38,
   "metadata": {},
   "outputs": [
    {
     "data": {
      "text/plain": [
       "17.74074074074074"
      ]
     },
     "execution_count": 38,
     "metadata": {},
     "output_type": "execute_result"
    }
   ],
   "source": [
    "\"\"\" isnull : returns a DataFrame object where all the values are replaced with \n",
    "a boolean value True for NULL values, and otherwise False \"\"\"\n",
    "date = station_data[station_data['decommission_date'].isnull()]\n",
    "the_mean_current=date['current_dockcount'].mean()\n",
    "the_mean_current"
   ]
  },
  {
   "cell_type": "markdown",
   "metadata": {},
   "source": [
    "## 5. When a bike station is modified, is it more likely that it’ll lose bikes or gain bikes? How do you know?"
   ]
  },
  {
   "cell_type": "code",
   "execution_count": 36,
   "metadata": {},
   "outputs": [
    {
     "data": {
      "text/plain": [
       "-64"
      ]
     },
     "execution_count": 36,
     "metadata": {},
     "output_type": "execute_result"
    }
   ],
   "source": [
    "\"\"\" dropna is used to remove rows and columns with Null/NaN values\"\"\"\n",
    "modified_station = station_data[['modification_date','install_dockcount','current_dockcount']].dropna()\n",
    "lose_or_gain=modified_station['current_dockcount'].sum() - modified_station['install_dockcount'].sum()\n",
    "lose_or_gain"
   ]
  },
  {
   "cell_type": "markdown",
   "metadata": {},
   "source": [
    "## 6. Come up with 3 more questions that can be answered with this data set."
   ]
  },
  {
   "cell_type": "markdown",
   "metadata": {},
   "source": [
    "\n",
    "**sort the station data depend on the current_dockcount**"
   ]
  },
  {
   "cell_type": "code",
   "execution_count": 41,
   "metadata": {},
   "outputs": [],
   "source": [
    "sorting_data=station_data.sort_values(by=['current_dockcount'])\n",
    "# sorting_data"
   ]
  },
  {
   "cell_type": "markdown",
   "metadata": {},
   "source": [
    "**sorting the weather data depend on the Max_Temperature_F**"
   ]
  },
  {
   "cell_type": "code",
   "execution_count": 45,
   "metadata": {},
   "outputs": [],
   "source": [
    "sorting_data=weather_data.sort_values(by='Mean_Temperature_F',ascending=False)\n",
    "# sorting_data"
   ]
  },
  {
   "cell_type": "markdown",
   "metadata": {},
   "source": [
    "**sorting the station by the index**"
   ]
  },
  {
   "cell_type": "code",
   "execution_count": 48,
   "metadata": {},
   "outputs": [
    {
     "data": {
      "text/plain": [
       "16.517241379310345"
      ]
     },
     "execution_count": 48,
     "metadata": {},
     "output_type": "execute_result"
    }
   ],
   "source": [
    "\n",
    "sorting_data=station_data['current_dockcount'].mean()\n",
    "# sorting_data"
   ]
  }
 ],
 "metadata": {
  "interpreter": {
   "hash": "2a02b953e915b177eadf1abc76bb7963cd7d13c79704b66b5b75d695bb6a9a75"
  },
  "kernelspec": {
   "display_name": "Python 3.9.5 64-bit ('.venv': poetry)",
   "language": "python",
   "name": "python3"
  },
  "language_info": {
   "codemirror_mode": {
    "name": "ipython",
    "version": 3
   },
   "file_extension": ".py",
   "mimetype": "text/x-python",
   "name": "python",
   "nbconvert_exporter": "python",
   "pygments_lexer": "ipython3",
   "version": "3.9.5"
  },
  "orig_nbformat": 4
 },
 "nbformat": 4,
 "nbformat_minor": 2
}
